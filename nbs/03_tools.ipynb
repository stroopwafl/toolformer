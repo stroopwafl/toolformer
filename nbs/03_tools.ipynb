{
 "cells": [
  {
   "cell_type": "markdown",
   "id": "d2bbe7f8-4eb1-41bd-99b1-9295064debc4",
   "metadata": {},
   "source": [
    "# Tools\n",
    "\n",
    "This version only contains two simple tools — calculator and calendar. New tools can be easily added from here."
   ]
  },
  {
   "cell_type": "code",
   "execution_count": null,
   "id": "460e5dcd-d543-4dbf-8689-99b59d47bcd2",
   "metadata": {},
   "outputs": [],
   "source": [
    "#| default_exp tools"
   ]
  },
  {
   "cell_type": "code",
   "execution_count": null,
   "id": "c5ce9e34-53e1-4e45-a1b1-3304c08b5666",
   "metadata": {},
   "outputs": [],
   "source": [
    "#| export\n",
    "import requests\n",
    "import calendar\n",
    "import wolframalpha\n",
    "import datetime\n",
    "from transformers import AutoModelForSeq2SeqLM, AutoTokenizer\n",
    "from operator import pow, truediv, mul, add, sub\n",
    "import os"
   ]
  },
  {
   "cell_type": "code",
   "execution_count": null,
   "id": "116ebf28-d3bf-4336-b389-c53a20a1dbf1",
   "metadata": {},
   "outputs": [],
   "source": [
    "#| export\n",
    "def Calendar():\n",
    "    now = datetime.datetime.now()\n",
    "    return f'Today is {calendar.day_name[now.weekday()]}, {calendar.month_name[now.month]} {now.day}, {now.year}.'"
   ]
  },
  {
   "cell_type": "code",
   "execution_count": null,
   "id": "d9cb9cbf-a7d9-4843-8b62-cf76440173b8",
   "metadata": {},
   "outputs": [
    {
     "data": {
      "text/plain": [
       "'Today is Thursday, July 20, 2023.'"
      ]
     },
     "execution_count": null,
     "metadata": {},
     "output_type": "execute_result"
    }
   ],
   "source": [
    "Calendar()"
   ]
  },
  {
   "cell_type": "code",
   "execution_count": null,
   "id": "47d60685-a9a8-42c4-a542-f2e6ed920d56",
   "metadata": {},
   "outputs": [],
   "source": [
    "#| export\n",
    "def Calculator(expression:str): \n",
    "    expression = expression.replace('x', '*')\n",
    "    return eval(expression)"
   ]
  },
  {
   "cell_type": "code",
   "execution_count": null,
   "id": "4e9934f7-fa59-44ac-82ba-7f21734c4e32",
   "metadata": {},
   "outputs": [
    {
     "data": {
      "text/plain": [
       "44"
      ]
     },
     "execution_count": null,
     "metadata": {},
     "output_type": "execute_result"
    }
   ],
   "source": [
    "Calculator('12x3+8')"
   ]
  },
  {
   "cell_type": "code",
   "execution_count": null,
   "id": "9ada8db1-b005-4374-80a0-499ff4ceb665",
   "metadata": {},
   "outputs": [],
   "source": [
    "#| hide\n",
    "import nbdev; nbdev.nbdev_export()"
   ]
  },
  {
   "cell_type": "code",
   "execution_count": null,
   "id": "97072bbf-9401-4fca-99ef-06ba61c001da",
   "metadata": {},
   "outputs": [],
   "source": []
  }
 ],
 "metadata": {
  "kernelspec": {
   "display_name": "main_env",
   "language": "python",
   "name": "main_env"
  }
 },
 "nbformat": 4,
 "nbformat_minor": 5
}
