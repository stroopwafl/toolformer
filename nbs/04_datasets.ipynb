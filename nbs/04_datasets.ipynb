{
 "cells": [
  {
   "cell_type": "markdown",
   "id": "98362b62-ffd3-4a96-897e-4a82db26e7f0",
   "metadata": {},
   "source": [
    "# Datasets\n",
    "\n",
    "I am using two simple APIs — calendar and calculator."
   ]
  },
  {
   "cell_type": "code",
   "execution_count": null,
   "id": "271508b4-b237-46ed-a9b2-407c9e31ecde",
   "metadata": {},
   "outputs": [],
   "source": [
    "#| default_exp datasets"
   ]
  },
  {
   "cell_type": "code",
   "execution_count": null,
   "id": "bf7de263-302a-4bcd-93c4-d973b1dd2a9c",
   "metadata": {},
   "outputs": [],
   "source": [
    "#| export\n",
    "from __future__ import annotations\n",
    "import math, random, torch, matplotlib.pyplot as plt, numpy as np, matplotlib as mpl, shutil, os, gzip, pickle, re, copy, time\n",
    "from pathlib import Path\n",
    "from functools import partial\n",
    "import fastcore.all as fc\n",
    "from glob import glob\n",
    "\n",
    "from torch import tensor, nn, optim\n",
    "import torch.nn.functional as F\n",
    "from datasets import load_dataset\n",
    "from torch.optim import lr_scheduler\n",
    "from torch.utils.data import DataLoader, default_collate\n",
    "from torch.nn import init\n",
    "from torch.nn.utils.rnn import pad_sequence\n",
    "\n",
    "from datetime import datetime, timedelta\n",
    "import calendar\n",
    "import json\n",
    "import csv"
   ]
  },
  {
   "cell_type": "markdown",
   "id": "9f58e702-48a2-424f-8424-2a5af1119ede",
   "metadata": {},
   "source": [
    "### Calendar\n",
    "\n",
    "A proof-of-concept dataset for the calendar API can be produced via the method described in the paper."
   ]
  },
  {
   "cell_type": "code",
   "execution_count": null,
   "id": "aee1dedc-22de-460c-99c0-387fe61c8115",
   "metadata": {},
   "outputs": [],
   "source": [
    "#| export\n",
    "CALENDAR_PROMPT = \"\"\"Your task is to add calls to a Calendar API to a piece of text. \n",
    "The API calls should help you get information required to complete the text. \n",
    "You can call the API by writing <% Calendar() %>. \n",
    "Here are some examples of API calls:\n",
    "Input: Today is the first Friday of the year.\n",
    "Output: Today is the first <% Calendar() %> Friday of the year.\n",
    "Input: The president of the United States is Joe Biden.\n",
    "Output: The president of the United States is <% Calendar() %> Joe Biden.\n",
    "Input: The current day of the week is Wednesday.\n",
    "Output: The current day of the week is <% Calendar() %> Wednesday.\n",
    "Input: The number of days from now until Christmas is 30.\n",
    "Output: The number of days from now until Christmas is <% Calendar() %> 30.\n",
    "Input: The store is never open on the weekend, so today it is closed.\n",
    "Output: The store is never open on the weekend, so today <% Calendar() %> it is closed.\n",
    "Input: [INPUT]\n",
    "Output: \"\"\""
   ]
  },
  {
   "cell_type": "code",
   "execution_count": null,
   "id": "fd13547d-13f3-4685-a0d1-a05414485def",
   "metadata": {},
   "outputs": [],
   "source": [
    "#| export\n",
    "DATESET_HOLIDAYS = [\n",
    "    \"New Year's Day\",\n",
    "    \"The Birthday of Martin Luther King, Jr.\",\n",
    "    \"Washington's Birthday\",\n",
    "    \"Memorial Day\",\n",
    "    \"Juneteenth National Independence Day\",\n",
    "    \"Independence Day\",\n",
    "    \"Labor Day\",\n",
    "    \"Columbus Day\",\n",
    "    \"Veterans Day\",\n",
    "    \"Thanksgiving Day\",\n",
    "    \"Christmas Day\"\n",
    "]"
   ]
  },
  {
   "cell_type": "code",
   "execution_count": null,
   "id": "f41bc56c-074a-4fcf-9ba1-fee9f3574fec",
   "metadata": {},
   "outputs": [],
   "source": [
    "#| export\n",
    "DATESET_TEMPLATES = [\n",
    "    {\n",
    "        \"main\": \"How many days {var_1} {var_2}?\",\n",
    "        \"vars\": [['ago was', 'are there until'], ['past_date', 'future_date']],\n",
    "        \"p\": 0.05,\n",
    "        \"logic\": None,\n",
    "        \"holiday\": False\n",
    "    },\n",
    "    {\n",
    "        \"main\": \"What {var_1} was it {logic} days ago?\",\n",
    "        \"vars\": [['day of the week', 'day of the month', 'month', 'year']],\n",
    "        \"p\": 0.08,\n",
    "        \"logic\": 'current_date – past_date',\n",
    "        \"holiday\": False\n",
    "    },\n",
    "    {\n",
    "        \"main\": \"What {var_1} will it be in {logic} days?\",\n",
    "        \"vars\": [['day of the week', 'day of the month', 'month', 'year']], \n",
    "        \"p\": 0.08,\n",
    "        \"logic\": 'future_date – current_date',\n",
    "        \"holiday\": False\n",
    "    },\n",
    "    {\n",
    "        \"main\": \"What day of the week {var_1} it on {var_2}?\",\n",
    "        \"vars\": [['is', 'was'], ['future_date', 'past_date']],\n",
    "        \"p\": 0.05,\n",
    "        \"logic\": None,\n",
    "        \"holiday\": False\n",
    "    },\n",
    "    {\n",
    "        \"main\": \"What {var_1} is it {var_2}?\",\n",
    "        \"vars\": [['day of the week', 'day of the month', 'month', 'year'], ['the day before yesterday', 'today', 'tomorrow', 'the day after tomorrow']],\n",
    "        \"p\": 0.42,\n",
    "        \"logic\": None,\n",
    "        \"holiday\": False\n",
    "    },\n",
    "    {\n",
    "        \"main\": \"What {var_1} is {holiday} this year?\",\n",
    "        \"vars\": [['day of the week', 'day of the month', 'month']],\n",
    "        \"p\": 0.2,\n",
    "        \"logic\": None,\n",
    "        \"holiday\": True\n",
    "    },\n",
    "    {\n",
    "        \"main\": \"How many {var_1} {holiday} this year?\",\n",
    "        \"vars\": [['days ago was', 'weeks ago was', 'months ago was', 'years ago was', 'days are there until', 'weeks are there until', 'months are there until', 'years are there until']],\n",
    "        \"p\": 0.12,\n",
    "        \"logic\": None,\n",
    "        \"holiday\": True\n",
    "    }\n",
    "]"
   ]
  },
  {
   "cell_type": "code",
   "execution_count": null,
   "id": "00a95a71-9beb-4d9c-b170-37a9f0c1dc21",
   "metadata": {},
   "outputs": [],
   "source": [
    "#| export\n",
    "def random_date(start, end): return start + timedelta(seconds=random.randint(0, int((end - start).total_seconds())))"
   ]
  },
  {
   "cell_type": "code",
   "execution_count": null,
   "id": "ffcdd87d-de19-4b7e-bdcb-a0e3af91866d",
   "metadata": {},
   "outputs": [],
   "source": [
    "#| export\n",
    "def format_date(date): return f'{calendar.day_name[date.weekday()]}, {calendar.month_name[date.month]} {date.day}, {date.year}'"
   ]
  },
  {
   "cell_type": "code",
   "execution_count": null,
   "id": "58d9d8d9-f99d-4331-8807-80b670ae8f1f",
   "metadata": {},
   "outputs": [],
   "source": [
    "#| export\n",
    "def get_prompt(template, holidays):\n",
    "    current_date = datetime.now()\n",
    "    past_date = random_date(datetime(1750, 1, 1), current_date)\n",
    "    future_date = random_date(current_date, datetime(2200, 1, 1))\n",
    "    \n",
    "    prompt = template['main']\n",
    "    \n",
    "    # replace vars\n",
    "    # import pdb; pdb.set_trace()\n",
    "    r = random.randint(0,len(template['vars'][0])-1)\n",
    "    for i, var in enumerate(template['vars']):\n",
    "        v = var[r]\n",
    "        if v == 'future_date': v = format_date(future_date)\n",
    "        elif v == 'past_date': v = format_date(past_date)\n",
    "        elif v == 'current_date': v = format_date(current_date)\n",
    "        prompt = prompt.replace(f'{{var_{i + 1}}}', v)\n",
    "    \n",
    "    # do any logic\n",
    "    if template['logic'] is not None:\n",
    "        if template['logic'] == 'future_date – current_date': \n",
    "            res = (future_date - current_date).days\n",
    "            prompt = prompt.replace(f'{{logic}}', str(res))\n",
    "        if template['logic'] == 'current_date – past_date':\n",
    "            res = (current_date - past_date).days\n",
    "            prompt = prompt.replace(f'{{logic}}', str(res))\n",
    "            \n",
    "    # get holiday if needed\n",
    "    if template['holiday'] is not None:\n",
    "        r = random.randint(0,len(holidays)-1)\n",
    "        h = holidays[r]\n",
    "        prompt = prompt.replace('{holiday}', h)\n",
    "        \n",
    "    return prompt"
   ]
  },
  {
   "cell_type": "code",
   "execution_count": null,
   "id": "34fd865e-e51c-4caa-8e3c-f372ad5cd54f",
   "metadata": {},
   "outputs": [],
   "source": [
    "#| export\n",
    "def make_dateset(templates, holidays, size=9400):\n",
    "    prompts = []\n",
    "    for t in templates:\n",
    "        num = int(t['p']*size)\n",
    "        for _ in range(num):\n",
    "            p = get_prompt(t, holidays)\n",
    "            prompts.append(p)\n",
    "    return prompts"
   ]
  },
  {
   "cell_type": "code",
   "execution_count": null,
   "id": "75e1e74d-3b01-48f3-a466-3f42b9e571c6",
   "metadata": {},
   "outputs": [
    {
     "data": {
      "text/plain": [
       "['How many days are there until Wednesday, June 5, 2086?',\n",
       " 'How many days are there until Wednesday, September 11, 2024?',\n",
       " 'How many days are there until Saturday, July 26, 2092?',\n",
       " 'How many days ago was Wednesday, August 31, 1825?',\n",
       " 'How many days are there until Sunday, February 4, 2080?',\n",
       " 'How many days ago was Thursday, December 10, 1959?',\n",
       " 'How many days ago was Sunday, August 21, 1870?',\n",
       " 'How many days are there until Thursday, June 7, 2108?',\n",
       " 'How many days are there until Thursday, September 30, 2077?',\n",
       " 'How many days ago was Thursday, January 26, 1843?']"
      ]
     },
     "execution_count": null,
     "metadata": {},
     "output_type": "execute_result"
    }
   ],
   "source": [
    "calendar_ds = make_dateset(DATESET_TEMPLATES, DATESET_HOLIDAYS, 600)\n",
    "calendar_ds[:10]"
   ]
  },
  {
   "cell_type": "code",
   "execution_count": null,
   "id": "0b753926-04c3-4b1c-a7c2-785c69bf660f",
   "metadata": {},
   "outputs": [
    {
     "name": "stdout",
     "output_type": "stream",
     "text": [
      "Your task is to add calls to a Calendar API to a piece of text. \n",
      "The API calls should help you get information required to complete the text. \n",
      "You can call the API by writing <% Calendar() %>. \n",
      "Here are some examples of API calls:\n",
      "Input: Today is the first Friday of the year.\n",
      "Output: Today is the first <% Calendar() %> Friday of the year.\n",
      "Input: The president of the United States is Joe Biden.\n",
      "Output: The president of the United States is <% Calendar() %> Joe Biden.\n",
      "Input: The current day of the week is Wednesday.\n",
      "Output: The current day of the week is <% Calendar() %> Wednesday.\n",
      "Input: The number of days from now until Christmas is 30.\n",
      "Output: The number of days from now until Christmas is <% Calendar() %> 30.\n",
      "Input: The store is never open on the weekend, so today it is closed.\n",
      "Output: The store is never open on the weekend, so today <% Calendar() %> it is closed.\n",
      "Input: How many days are there until Wednesday, June 5, 2086?\n",
      "Output: \n"
     ]
    }
   ],
   "source": [
    "print(CALENDAR_PROMPT.replace('[INPUT]', calendar_ds[0]))"
   ]
  },
  {
   "cell_type": "markdown",
   "id": "3cff871c-1dff-4c08-b193-4b47c5b61a79",
   "metadata": {},
   "source": [
    "### Calculator\n",
    "\n",
    "I'm going to use a subset of the GSM9K-XL dataset."
   ]
  },
  {
   "cell_type": "code",
   "execution_count": null,
   "id": "d0261af7-6a3f-4793-a651-7fd6f97b1fb2",
   "metadata": {},
   "outputs": [],
   "source": [
    "#| export\n",
    "CALCULATOR_PROMPT = f\"\"\"Your task is to add calls to a Calculator API to a piece of text. \n",
    "The calls should help you get information required to complete the text. \n",
    "You can call the API by writing \"<% Calculator(expression) %>\" where \"expression\" is the expression to be computed.\n",
    "You should simply return the same text with the API call included.\n",
    "Here are some examples of API calls: \n",
    "Input: The number in the next term is 18 + 12 x 3 = 54. \n",
    "Output: The number in the next term is 18 + 12 x 3 = <% Calculator(18 + 12 * 3) %> 54. \n",
    "Input: The population is 658,893 people. This is 11.4% of the national average of 5,763,868 people. \n",
    "Output: The population is 658,893 people. This is 11.4% of the national average of <% Calculator(658,893 / 11.4) %> 5,763,868 people. \n",
    "Input: A total of 252 qualifying matches were played, and 723 goals were scored (an average of 2.87 per match). This is three times less than the 2169 goals last year. \n",
    "Output: A total of 252 qualifying matches were played, and 723 goals were scored (an average of <% Calculator(723 / 252) %> 2.87 per match). This is twenty goals more than the <% Calculator(723 - 20) %> 703 goals last year. \n",
    "Input: I went to Paris in 1994 and stayed there until 2011, so in total, it was 17 years. \n",
    "Output: I went to Paris in 1994 and stayed there until 2011, so in total, it was <% Calculator(2011 - 1994) %> 17 years. \n",
    "Input: From this, we have 4 * 30 minutes = 120 minutes. \n",
    "Output: From this, we have 4 * 30 minutes = <% Calculator(4 * 30) %> 120 minutes. \n",
    "Input: [INPUT] \n",
    "Output: \"\"\""
   ]
  },
  {
   "cell_type": "code",
   "execution_count": null,
   "id": "19e013ce-03e4-408c-9c25-6b2dc6b67b08",
   "metadata": {},
   "outputs": [],
   "source": [
    "with open('/home/projects/toolken/data_toolken/data/gsm8k-xl/test.json', 'r') as f: \n",
    "    qs = f.readlines()\n",
    "    test_data = [json.loads(q) for q in qs]"
   ]
  },
  {
   "cell_type": "code",
   "execution_count": null,
   "id": "c0fb939b-fcd6-4bf5-80e0-5a5eeb6f8404",
   "metadata": {},
   "outputs": [],
   "source": [
    "raw_answers = [i[\"answer\"] for i in test_data]\n",
    "values = [i['v'] for i in test_data]\n",
    "results = [i['r'] for i in test_data]\n",
    "calculator_ds = []\n",
    "for i, (v, r, a) in enumerate(zip(values, results, raw_answers)):\n",
    "    for j in range(len(v)):\n",
    "        a = a.replace(f\"{{v_{j+1}}}\", str(v[j]))\n",
    "    for j in range(len(r)):\n",
    "        a = a.replace(f\"{{r_{j+1}}}\", str(r[j]))\n",
    "    a = re.sub('<<.*?>>', '', a)\n",
    "    a = a.split(\"####\", 1)[0]\n",
    "    a = a.replace(\"\\n\", \" \")\n",
    "    calculator_ds.append(a)"
   ]
  },
  {
   "cell_type": "code",
   "execution_count": null,
   "id": "3d2a347d-0ff8-4be8-a5bb-22636b539515",
   "metadata": {},
   "outputs": [
    {
     "data": {
      "text/plain": [
       "'Janet sells 16.0 - 3.0 - 4.0 = 9.0 duck eggs a day. She makes 9.0 * 2.0 = $18.0 every day at the farmer’s market. '"
      ]
     },
     "execution_count": null,
     "metadata": {},
     "output_type": "execute_result"
    }
   ],
   "source": [
    "calculator_ds[0]"
   ]
  },
  {
   "cell_type": "code",
   "execution_count": null,
   "id": "710a84d2-1450-4736-8ef4-aad4e34bd26e",
   "metadata": {},
   "outputs": [
    {
     "name": "stdout",
     "output_type": "stream",
     "text": [
      "Your task is to add calls to a Calculator API to a piece of text. \n",
      "The calls should help you get information required to complete the text. \n",
      "You can call the API by writing \"<% Calculator(expression) %>\" where \"expression\" is the expression to be computed.\n",
      "You should simply return the same text with the API call included.\n",
      "Here are some examples of API calls: \n",
      "Input: The number in the next term is 18 + 12 x 3 = 54. \n",
      "Output: The number in the next term is 18 + 12 x 3 = <% Calculator(18 + 12 * 3) %> 54. \n",
      "Input: The population is 658,893 people. This is 11.4% of the national average of 5,763,868 people. \n",
      "Output: The population is 658,893 people. This is 11.4% of the national average of <% Calculator(658,893 / 11.4) %> 5,763,868 people. \n",
      "Input: A total of 252 qualifying matches were played, and 723 goals were scored (an average of 2.87 per match). This is three times less than the 2169 goals last year. \n",
      "Output: A total of 252 qualifying matches were played, and 723 goals were scored (an average of <% Calculator(723 / 252) %> 2.87 per match). This is twenty goals more than the <% Calculator(723 - 20) %> 703 goals last year. \n",
      "Input: I went to Paris in 1994 and stayed there until 2011, so in total, it was 17 years. \n",
      "Output: I went to Paris in 1994 and stayed there until 2011, so in total, it was <% Calculator(2011 - 1994) %> 17 years. \n",
      "Input: From this, we have 4 * 30 minutes = 120 minutes. \n",
      "Output: From this, we have 4 * 30 minutes = <% Calculator(4 * 30) %> 120 minutes. \n",
      "Input: Janet sells 16.0 - 3.0 - 4.0 = 9.0 duck eggs a day. She makes 9.0 * 2.0 = $18.0 every day at the farmer’s market.  \n",
      "Output: \n"
     ]
    }
   ],
   "source": [
    "print(CALCULATOR_PROMPT.replace('[INPUT]', calculator_ds[0]))"
   ]
  },
  {
   "cell_type": "markdown",
   "id": "d7c19983-5241-4459-81a0-fdf2574ca043",
   "metadata": {},
   "source": [
    "### Export and wrap into dataset\n",
    "\n",
    "The dataset will return the full prompt, including the in-context learning prefix, the varying input alone, and also the start index of the models' response. This will make life easier in the forthcoming dataset builder."
   ]
  },
  {
   "cell_type": "code",
   "execution_count": null,
   "id": "232de7d4-c1fc-4d64-9668-48cdffac0c92",
   "metadata": {},
   "outputs": [],
   "source": [
    "#| hide\n",
    "calc = [(p,v) for p,v in zip([CALCULATOR_PROMPT for _ in range(len(calculator_ds))], calculator_ds)]\n",
    "cal = [(p,v) for p,v in zip([CALENDAR_PROMPT for _ in range(len(calendar_ds))], calendar_ds)]\n",
    "data = calc+cal"
   ]
  },
  {
   "cell_type": "code",
   "execution_count": null,
   "id": "f4f6264a-cbbd-4eb5-943f-2beee6089600",
   "metadata": {},
   "outputs": [],
   "source": [
    "#| hide\n",
    "with open('/home/libs/toolformer/data/dataset.csv', 'w', newline='') as file: \n",
    "    writer = csv.writer(file)\n",
    "    for d in data: writer.writerow(d)"
   ]
  },
  {
   "cell_type": "code",
   "execution_count": null,
   "id": "99a45628-3e1a-442f-8a80-d150d92b4484",
   "metadata": {},
   "outputs": [],
   "source": [
    "#| export\n",
    "class PromptDS:\n",
    "    \"\"\"\n",
    "        Returns a tuple containing the whole prompt (including the in-context\n",
    "        teacher prefix), the varying input data sequence and the start index\n",
    "        of the model's response.\n",
    "    \"\"\"\n",
    "    def __init__(self, data): fc.store_attr()\n",
    "    def __len__(self): return len(self.data)\n",
    "    def __getitem__(self, i): \n",
    "        prompt, inp = self.data[i]\n",
    "        prompt = prompt.replace(\"[INPUT]\", inp)\n",
    "        return prompt, (inp, len(prompt))"
   ]
  },
  {
   "cell_type": "code",
   "execution_count": null,
   "id": "5561e9a6-bc35-4601-a7f3-17b51fb20880",
   "metadata": {},
   "outputs": [],
   "source": [
    "#| hide\n",
    "import nbdev; nbdev.nbdev_export()"
   ]
  },
  {
   "cell_type": "code",
   "execution_count": null,
   "id": "4fc08f82-6be1-49d3-b98d-4c30b1a8bdd6",
   "metadata": {},
   "outputs": [],
   "source": []
  }
 ],
 "metadata": {
  "kernelspec": {
   "display_name": "main_env",
   "language": "python",
   "name": "main_env"
  }
 },
 "nbformat": 4,
 "nbformat_minor": 5
}
